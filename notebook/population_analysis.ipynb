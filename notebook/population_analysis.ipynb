{
 "cells": [
  {
   "cell_type": "markdown",
   "id": "1f0f038f",
   "metadata": {},
   "source": [
    "import pandas as pd\n",
    "\n",
    "file_path = r\"C:\\Users\\arjun\\Downloads\\API_SP.POP.TOTL_DS2_en_csv_v2_2590 (1)\\API_SP.POP.TOTL_DS2_en_csv_v2_2590.csv\"\n",
    "\n",
    "# Usually, this dataset has metadata in the first few rows, so we skip them\n",
    "df = pd.read_csv(file_path, skiprows=4)\n",
    "\n",
    "print(df.head())\n"
   ]
  },
  {
   "cell_type": "code",
   "execution_count": null,
   "id": "41dccf01",
   "metadata": {},
   "outputs": [],
   "source": [
    "import pandas as pd\n",
    "\n",
    "file_path = r\"C:\\Users\\arjun\\Downloads\\API_SP.POP.TOTL_DS2_en_csv_v2_2590 (1)\\API_SP.POP.TOTL_DS2_en_csv_v2_2590.csv\"\n",
    "\n",
    "# Usually, this dataset has metadata in the first few rows, so we skip them\n",
    "df = pd.read_csv(file_path, skiprows=4)\n",
    "\n",
    "print(df.head())\n"
   ]
  },
  {
   "cell_type": "code",
   "execution_count": null,
   "id": "e504e15e",
   "metadata": {},
   "outputs": [],
   "source": [
    "df.head()\n"
   ]
  },
  {
   "cell_type": "code",
   "execution_count": null,
   "id": "8bd34065",
   "metadata": {},
   "outputs": [],
   "source": [
    "df.columns\n"
   ]
  },
  {
   "cell_type": "code",
   "execution_count": null,
   "id": "247ac8fb",
   "metadata": {},
   "outputs": [],
   "source": [
    "india_data = df[df['Country Name'] == 'India']\n",
    "print(india_data)\n"
   ]
  },
  {
   "cell_type": "code",
   "execution_count": null,
   "id": "8aa9659b",
   "metadata": {},
   "outputs": [],
   "source": [
    "import matplotlib.pyplot as plt\n",
    "\n",
    "india_years = india_data.loc[:, '1960':'2022'].T\n",
    "india_years.index = india_years.index.astype(int)\n",
    "\n",
    "plt.figure(figsize=(10, 5))\n",
    "plt.plot(india_years, label='India')\n",
    "plt.title('Population Growth - India')\n",
    "plt.xlabel('Year')\n",
    "plt.ylabel('Population')\n",
    "plt.grid(True)\n",
    "plt.legend()\n",
    "plt.tight_layout()\n",
    "plt.show()\n"
   ]
  },
  {
   "cell_type": "code",
   "execution_count": null,
   "id": "1d7f6d4e",
   "metadata": {},
   "outputs": [],
   "source": [
    "import pandas as pd\n",
    "import matplotlib.pyplot as plt\n",
    "\n",
    "# Load the CSV\n",
    "df = pd.read_csv(r\"C:\\Users\\arjun\\Downloads\\API_SP.POP.TOTL_DS2_en_csv_v2_2590 (1)\\API_SP.POP.TOTL_DS2_en_csv_v2_2590.csv\", skiprows=4)\n",
    "\n",
    "# Filter only latest year (e.g., 2022)\n",
    "df_2022 = df[[\"Country Name\", \"2022\"]].dropna()\n",
    "\n",
    "# Plot histogram\n",
    "plt.figure(figsize=(10,6))\n",
    "plt.hist(df_2022[\"2022\"] / 1_000_000, bins=20, color='skyblue', edgecolor='black')\n",
    "plt.title(\"Distribution of Country Populations (2022)\")\n",
    "plt.xlabel(\"Population (in millions)\")\n",
    "plt.ylabel(\"Number of Countries\")\n",
    "plt.grid(True)\n",
    "plt.show()\n"
   ]
  }
 ],
 "metadata": {
  "kernelspec": {
   "display_name": "Python 3",
   "language": "python",
   "name": "python3"
  },
  "language_info": {
   "codemirror_mode": {
    "name": "ipython",
    "version": 3
   },
   "file_extension": ".py",
   "mimetype": "text/x-python",
   "name": "python",
   "nbconvert_exporter": "python",
   "pygments_lexer": "ipython3",
   "version": "3.12.4"
  }
 },
 "nbformat": 4,
 "nbformat_minor": 5
}
